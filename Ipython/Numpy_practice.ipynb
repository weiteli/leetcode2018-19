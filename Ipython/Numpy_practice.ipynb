{
 "cells": [
  {
   "cell_type": "code",
   "execution_count": 1,
   "metadata": {
    "collapsed": false
   },
   "outputs": [
    {
     "name": "stdout",
     "output_type": "stream",
     "text": [
      "1.15.4\n"
     ]
    }
   ],
   "source": [
    "import numpy as np"
   ]
  },
  {
   "cell_type": "code",
   "execution_count": 5,
   "metadata": {
    "collapsed": false
   },
   "outputs": [
    {
     "data": {
      "text/plain": [
       "array([False, False, False, False, False, False, False, False, False,\n",
       "       False])"
      ]
     },
     "execution_count": 5,
     "metadata": {},
     "output_type": "execute_result"
    }
   ],
   "source": [
    "np.zeros(10, dtype='int16')\n",
    "np.zeros(10, dtype=np.bool_)"
   ]
  },
  {
   "cell_type": "code",
   "execution_count": 17,
   "metadata": {
    "collapsed": false
   },
   "outputs": [
    {
     "name": "stdout",
     "output_type": "stream",
     "text": [
      "1 2 3\n",
      "(3,) (2, 3) (2, 3, 4)\n",
      "3 6 24\n",
      "int64\n",
      "[[5 0 0]\n",
      " [1 7 6]]\n",
      "[[ 5 93 -9]\n",
      " [ 1  7  6]]\n"
     ]
    }
   ],
   "source": [
    "# Attribute of arrays\n",
    "np.random.seed(1)\n",
    "x1 = np.random.randint(10, size=3)\n",
    "x2 = np.random.randint(10, size=(2, 3))\n",
    "x3 = np.random.randint(10, size=(2, 3, 4))\n",
    "\n",
    "print(x1.ndim, x2.ndim, x3.ndim)\n",
    "print(x1.shape, x2.shape, x3.shape)\n",
    "print(x1.size, x2.size, x3.size)\n",
    "print(x1.dtype)"
   ]
  },
  {
   "cell_type": "code",
   "execution_count": 18,
   "metadata": {
    "collapsed": false
   },
   "outputs": [
    {
     "name": "stdout",
     "output_type": "stream",
     "text": [
      "[[ 5 93 -9]\n",
      " [ 1  7  6]]\n",
      "[[ 5 93 -9]\n",
      " [ 1  7  6]]\n"
     ]
    }
   ],
   "source": [
    "# Indexing of arrays\n",
    "print(x2)\n",
    "x2[0, 1] = 93\n",
    "x2[0][2] = -9.33 # since array type is fixed, -9.33 will be truncated to -9\n",
    "print(x2)\n"
   ]
  },
  {
   "cell_type": "code",
   "execution_count": 30,
   "metadata": {
    "collapsed": false
   },
   "outputs": [
    {
     "name": "stdout",
     "output_type": "stream",
     "text": [
      "[1, 3, 5, 7]\n",
      "[2, 4, 6, 8]\n",
      "[8, 7, 6, 5, 4, 3, 2, 1]\n",
      "--------------\n",
      "[[ 5  1 -9]\n",
      " [ 1  7  6]]\n",
      "[[5 1]\n",
      " [1 7]]\n",
      "[[ 5  1 -9]\n",
      " [ 1  7  6]]\n"
     ]
    }
   ],
   "source": [
    "# Slicing of arrays x[start:stop:step], default for start=0, stop=size, step=1\n",
    "arr = [1,2,3,4,5,6,7,8]\n",
    "print(arr[::2])  # every other element\n",
    "print(arr[1::2]) # every other element starting at index 1\n",
    "print(arr[::-1]) # Reverse\n",
    "print('--------------')\n",
    "print(x2)\n",
    "x2_sub = x2[0:2, 0:2]\n",
    "print(x2_sub)\n",
    "x2_sub[0, 1] = 1  # change at x2_sub will also affect on x2_sub due to reference inference\n",
    "print(x2)\n",
    "x2_copy = x2[0:2, 0:2].copy() # use copy() is the way to prevent object being modified"
   ]
  },
  {
   "cell_type": "code",
   "execution_count": 36,
   "metadata": {
    "collapsed": false
   },
   "outputs": [
    {
     "name": "stdout",
     "output_type": "stream",
     "text": [
      "[[ 1  2  3]\n",
      " [-4  5  6]\n",
      " [ 7  8  9]]\n",
      "[[[1 2]\n",
      "  [3 4]]\n",
      "\n",
      " [[5 6]\n",
      "  [7 8]]]\n"
     ]
    }
   ],
   "source": [
    "# Reshaping of arrays\n",
    "arr = np.array(range(1,10))\n",
    "grid2d = arr.reshape(3,3) # default use no copy\n",
    "print(grid2d)\n",
    "grid3d = np.arange(1, 9).reshape(2,2,2)\n",
    "print(grid3d)"
   ]
  },
  {
   "cell_type": "code",
   "execution_count": 40,
   "metadata": {
    "collapsed": false
   },
   "outputs": [
    {
     "name": "stdout",
     "output_type": "stream",
     "text": [
      "[1 2 3 4 5 6 7 7 7]\n",
      "[[1 2 3]\n",
      " [4 5 6]\n",
      " [1 2 3]\n",
      " [4 5 6]]\n",
      "[[1 2 3 1 2 3]\n",
      " [4 5 6 4 5 6]]\n"
     ]
    }
   ],
   "source": [
    "# Concatenation & splitting\n",
    "# np.concatenate, np.vstack, np.hstack\n",
    "a = np.array([1,2,3])\n",
    "b = np.array([4,5,6])\n",
    "d = np.array([7,7,7])\n",
    "c = np.concatenate([a,b, d])\n",
    "print(c)\n",
    "\n",
    "grid = np.array([[1,2,3],[4,5,6]])\n",
    "print(np.concatenate([grid, grid], axis = 0))\n",
    "print(np.concatenate([grid, grid], axis = 1))\n"
   ]
  },
  {
   "cell_type": "code",
   "execution_count": 44,
   "metadata": {
    "collapsed": false
   },
   "outputs": [
    {
     "name": "stdout",
     "output_type": "stream",
     "text": [
      "1 loop, best of 3: 425 ms per loop\n"
     ]
    }
   ],
   "source": [
    "def compute_reciprocals(values):\n",
    "    output = np.empty(len(values))\n",
    "    for i in range(len(values)):\n",
    "        output[i] = 1.0/values[i]\n",
    "    return output\n",
    "\n",
    "big_array = np.random.randint(1,100, size=100000)\n",
    "# each time python needs to check the object type that slows down entire process\n",
    "%timeit compute_reciprocals(big_array)\n"
   ]
  },
  {
   "cell_type": "code",
   "execution_count": 43,
   "metadata": {
    "collapsed": false
   },
   "outputs": [
    {
     "name": "stdout",
     "output_type": "stream",
     "text": [
      "1000 loops, best of 3: 315 µs per loop\n"
     ]
    }
   ],
   "source": [
    "%timeit 1.0/big_array"
   ]
  },
  {
   "cell_type": "code",
   "execution_count": null,
   "metadata": {
    "collapsed": true
   },
   "outputs": [],
   "source": []
  }
 ],
 "metadata": {
  "kernelspec": {
   "display_name": "Python 3",
   "language": "python",
   "name": "python3"
  },
  "language_info": {
   "codemirror_mode": {
    "name": "ipython",
    "version": 3
   },
   "file_extension": ".py",
   "mimetype": "text/x-python",
   "name": "python",
   "nbconvert_exporter": "python",
   "pygments_lexer": "ipython3",
   "version": "3.5.1"
  }
 },
 "nbformat": 4,
 "nbformat_minor": 2
}
