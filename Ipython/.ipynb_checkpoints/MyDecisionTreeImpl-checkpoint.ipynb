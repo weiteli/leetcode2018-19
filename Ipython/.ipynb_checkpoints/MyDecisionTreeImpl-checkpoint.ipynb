{
 "cells": [
  {
   "cell_type": "code",
   "execution_count": 2,
   "metadata": {
    "collapsed": false
   },
   "outputs": [
    {
     "data": {
      "image/png": "[encoded data removed]",
      "text/plain": [
       "<matplotlib.figure.Figure at 0x10436ab38>"
      ]
     },
     "metadata": {},
     "output_type": "display_data"
    }
   ],
   "source": [
    "'''\n",
    "Reference\n",
    "1. https://github.com/random-forests/tutorials/blob/master/decision_tree.ipynb\n",
    "2. https://www.youtube.com/watch?v=7VeUPuFGJHk\n",
    "3. http://mropengate.blogspot.com/2015/06/ai-ch13-2-decision-tree.html\n",
    "4. https://medium.com/@NorthBei/machine-learning-decision-tree-764d1fab0200\n",
    "5. https://medium.com/@yehjames/%E8%B3%87%E6%96%99%E5%88%86%E6%9E%90-%E6%A9%9F%E5%99%A8%E5%AD%B8%E7%BF%92-%E7%AC%AC3-5%E8%AC%9B-%E6%B1%BA%E7%AD%96%E6%A8%B9-decision-tree-%E4%BB%A5%E5%8F%8A%E9%9A%A8%E6%A9%9F%E6%A3%AE%E6%9E%97-random-forest-%E4%BB%8B%E7%B4%B9-7079b0ddfbda\n",
    "'''\n",
    "import numpy as np\n",
    "%matplotlib inline\n",
    "import matplotlib.pyplot as plt\n",
    "import seaborn as sns\n",
    "sns.set_style(\"white\")\n",
    "import pandas as pd\n",
    "from sklearn import datasets\n",
    "from sklearn.cross_validation import train_test_split\n",
    "\n",
    "iris = datasets.load_iris()\n",
    "X = iris.data[:, 1:3]\n",
    "y = iris.target\n",
    "\n",
    "X_train, X_test, y_train, y_test = train_test_split(X, y, test_size=0.3)\n",
    "\n",
    "fig = plt.figure(figsize=(6,6))\n",
    "ax = fig.add_subplot(1,1,1)\n",
    "colors = ['r','g', 'b']\n",
    "label = [0, 1, 2]\n",
    "for i in range(len(y_train)):\n",
    "    ax.scatter(X_train[i][0], X_train[i][1], c=colors[y_train[i]], s=50)\n",
    "for i in range(len(y_test)):\n",
    "    ax.scatter(X_test[i][0], X_test[i][1], c=colors[y_test[i]], marker='^',s=50)\n",
    "    \n",
    "\n",
    "ax.axis('equal')\n",
    "ax.grid()\n"
   ]
  },
  {
   "cell_type": "code",
   "execution_count": 3,
   "metadata": {
    "collapsed": false
   },
   "outputs": [],
   "source": [
    "class MyDecisionNode():\n",
    "    def __init__(self, feature_dim=None, threshold=None, value=None, true_branch=None, false_branch=None):\n",
    "        self.feature_dim = feature_dim\n",
    "        self.threshold = threshold\n",
    "        self.value = value\n",
    "        self.true_branch = true_branch\n",
    "        self.false_branch = false_branch\n",
    "        "
   ]
  },
  {
   "cell_type": "code",
   "execution_count": 10,
   "metadata": {
    "collapsed": false
   },
   "outputs": [],
   "source": [
    "from collections import Counter\n",
    "\n",
    "class MyDecisionTree():\n",
    "    def __init__(self, min_sample=2, min_info_gain=1e-7, max_depth=float('inf'), loss = None):\n",
    "        self.root = None\n",
    "        self.min_sample = min_sample\n",
    "        self.min_info_gain = min_info_gain\n",
    "        self.max_depth = max_depth\n",
    "        self.loss = loss\n",
    "    \n",
    "    def divideFeatureInTwo(self, feature, thres):\n",
    "        c1, c2 = [], []\n",
    "        for i, f in enumerate(feature):\n",
    "            if f >= thres:\n",
    "                c1.append(i)\n",
    "            else:\n",
    "                c2.append(i)\n",
    "        return c1, c2\n",
    "\n",
    "    def calculateGiniImpurity(self, c):\n",
    "        n_samples = len(c)\n",
    "        counts = Counter(c)\n",
    "        impurity = 1\n",
    "        for item in counts:\n",
    "            prob = counts[item] / n_samples\n",
    "            impurity -= prob*prob\n",
    "        return impurity\n",
    "    \n",
    "    def calculateInformationGain(self, c1, c2, y):\n",
    "        p = len(c1)/len(y)\n",
    "        prev = self.calculateGiniImpurity(y)\n",
    "        info_gain = prev - p*self.calculateGiniImpurity(y[c1]) - (1-p)*self.calculateGiniImpurity(y[c2])\n",
    "        return info_gain\n",
    "    \n",
    "    def build_decision_tree(self, X, y, depth):\n",
    "        # Called Recursively\n",
    "        n_sample, n_feature = X.shape\n",
    "        #cur_impurity = self.calculateGiniImpurity(y)\n",
    "        #min_impurity = cur_impurity\n",
    "        max_info_gain = 0\n",
    "        data_separation = dict.fromkeys(['false_X', 'false_y', 'true_X', 'true_y', 'feature_dim', 'thres', 'impurity'])\n",
    "        \n",
    "        if n_sample > self.min_sample and depth <= self.max_depth:\n",
    "            for i in range(n_feature):\n",
    "                feature_dim = X[:, i]\n",
    "                unique_val = set(feature_dim)\n",
    "                for thres in sorted(unique_val):\n",
    "                    c1, c2 = self.divideFeatureInTwo(feature_dim, thres)\n",
    "                    if len(c1) > 0 and len(c2)>0:\n",
    "                        info_gain = self.calculateInformationGain(c1,c2,y)\n",
    "                        #c1_impurity = self.calculateGiniImpurity(y[c1])\n",
    "                        #c2_impurity = self.calculateGiniImpurity(y[c2])\n",
    "                        #total_impurity = float(len(c1)/n_sample) * c1_impurity +float((len(c2)/n_sample)) * c2_impurity\n",
    "                        if info_gain > max_info_gain:\n",
    "                            max_info_gain = info_gain\n",
    "\n",
    "                        #if total_impurity < min_impurity:\n",
    "                            #min_impurity = total_impurity\n",
    "                            #print(\"C1 number: {}, C1 impurity: {}\".format(len(c1), c1_impurity)) \n",
    "                            #print(\"C2 number: {}, C2 impurity: {}\".format(len(c2), c2_impurity))\n",
    "                            # Prep for data separation\n",
    "                            #data_separation['impurity'] = min_impurity\n",
    "                            data_separation['true_X'] = X[c1, :]\n",
    "                            data_separation['true_y'] = y[c1]\n",
    "                            data_separation['false_X'] = X[c2, :]\n",
    "                            data_separation['false_y'] = y[c2]\n",
    "                            data_separation['feature_dim'] = i\n",
    "                            data_separation['thres'] = thres\n",
    "        \n",
    "        if max_info_gain > self.min_info_gain:                \n",
    "        #if cur_impurity - min_impurity > 0.01:\n",
    "        #if min_impurity < cur_impurity:\n",
    "            #print(\"Cur: {}, Min: {}\".format(cur_impurity, min_impurity))\n",
    "            #print(data_separation['feature_dim'], data_separation['thres'], data_separation['impurity'])\n",
    "            if False:\n",
    "                fig = plt.figure(figsize=(10,5))\n",
    "                ax2 = fig.add_subplot(1,2,1)\n",
    "                colors = ['r','g','b']\n",
    "                for i in range(len(data_separation['false_y'])):\n",
    "                    ax2.scatter(data_separation['false_X'][i][0], data_separation['false_X'][i][1], c=colors[data_separation['false_y'][i]], s=50)\n",
    "                ax2.axis('equal')\n",
    "                ax2.grid()\n",
    "                \n",
    "                ax1 = fig.add_subplot(1,2,2)\n",
    "                colors = ['r','g', 'b']\n",
    "                for i in range(len(data_separation['true_y'])):\n",
    "                    ax1.scatter(data_separation['true_X'][i][0], data_separation['true_X'][i][1], c=colors[data_separation['true_y'][i]], s=50)\n",
    "                ax1.axis('equal')\n",
    "                ax1.grid()\n",
    "                plt.show()\n",
    "            \n",
    "            true_branch = self.build_decision_tree(data_separation['true_X'], data_separation['true_y'], depth+1)\n",
    "            false_branch = self.build_decision_tree(data_separation['false_X'], data_separation['false_y'], depth+1)\n",
    "            \n",
    "            return MyDecisionNode(feature_dim=data_separation['feature_dim'], threshold = data_separation['thres'],\\\n",
    "                                 true_branch = true_branch, false_branch = false_branch) \n",
    "        \n",
    "        #print(\"*Cur: {}, *Min: {}\".format(cur_impurity, min_impurity))\n",
    "        \n",
    "        ct = Counter(y)\n",
    "        majority_vote = float('-inf')\n",
    "        label = None\n",
    "\n",
    "        for item in ct:\n",
    "            if ct[item] > majority_vote:\n",
    "                majority_vote = ct[item]\n",
    "                label = item\n",
    "        \n",
    "        #leaf_val = self._majority_vote(y)\n",
    "        return MyDecisionNode(value=label)\n",
    "    \n",
    "    def _majority_vote(self, y):\n",
    "        most_common = None\n",
    "        max_count = 0\n",
    "        for label in np.unique(y):\n",
    "            # Count number of occurences of samples with label\n",
    "            count = len(y[y == label])\n",
    "            if count > max_count:\n",
    "                most_common = label\n",
    "                max_count = count\n",
    "        return most_common\n",
    "    \n",
    "    def fit(self, X, y):\n",
    "        self.root = self.build_decision_tree(X,y, 0)\n",
    "    \n",
    "    def run_sample_predict(self, x, node=None):\n",
    "        if node == None:\n",
    "            node = self.root\n",
    "        \n",
    "        if node.value != None:\n",
    "            return node.value\n",
    "        \n",
    "        value_on_feat_dim = x[node.feature_dim]\n",
    "        \n",
    "        if value_on_feat_dim >= node.threshold:\n",
    "            branch = node.true_branch\n",
    "        else:\n",
    "            branch = node.false_branch\n",
    "\n",
    "        return self.run_sample_predict(x, branch)\n",
    "   \n",
    "    def predict(self, X):\n",
    "        y_pred = [self.run_sample_predict(s) for s in X]\n",
    "        return y_pred\n",
    "    \n",
    "    def print_tree(self, tree=None, indent=\" \"):\n",
    "        \"\"\" Recursively print the decision tree \"\"\"\n",
    "        if not tree:\n",
    "            tree = self.root\n",
    "\n",
    "        # If we're at leaf => print the label\n",
    "        if tree.value is not None:\n",
    "            print (tree.value)\n",
    "        # Go deeper down the tree\n",
    "        else:\n",
    "            # Print test\n",
    "            print (\"%s:%s? \" % (tree.feature_dim, tree.threshold))\n",
    "            # Print the true scenario\n",
    "            print (\"%sT->\" % (indent), end=\"\")\n",
    "            self.print_tree(tree.true_branch, indent + indent)\n",
    "            # Print the false scenario\n",
    "            print (\"%sF->\" % (indent), end=\"\")\n",
    "            self.print_tree(tree.false_branch, indent + indent)\n"
   ]
  },
  {
   "cell_type": "code",
   "execution_count": 70,
   "metadata": {
    "collapsed": true
   },
   "outputs": [],
   "source": [
    "class MyRandomForest():\n",
    "    def __init__(self, n_tree, min_sample=2, min_info_gain=1e-7, max_depth=float('inf'), loss = None):\n",
    "        self.n_tree = n_tree\n",
    "        self.min_sample = min_sample\n",
    "        self.min_info_gain = min_info_gain\n",
    "        self.max_depth = max_depth\n",
    "        self.loss = loss\n",
    "    \n",
    "        self.trees = []\n",
    "        for i in range(self.n_tree):\n",
    "            self.trees.append(MyDecisionTree(min_sample=self.min_sample, min_info_gain=self.min_info_gain, \\\n",
    "                                             max_depth=float('inf')))\n",
    "        \n",
    "    def fit(self, X, y):\n",
    "        n_sample, n_feature = X.shape\n",
    "        for tree in self.trees:\n",
    "            # Create Bootstraped dataset\n",
    "            idx = np.random.randint(n_sample, size=n_sample)\n",
    "            b_Xdata = X[idx, :]\n",
    "            b_ydata = y[idx]\n",
    "            tree.fit(b_Xdata, b_ydata)\n",
    "    \n",
    "    def predict(self, X):\n",
    "        res = []\n",
    "        for tree in self.trees:\n",
    "            ypred = tree.predict(X)\n",
    "            res.append(ypred)\n",
    "        \n",
    "        labels = []\n",
    "        for i in range(len(res[0])):\n",
    "            tmp = []\n",
    "            for j in range(self.n_tree):\n",
    "                tmp.append(res[j][i])\n",
    "            counts = Counter(tmp)\n",
    "            labels.append(counts.most_common(1)[0][0])\n",
    "        return labels          "
   ]
  },
  {
   "cell_type": "code",
   "execution_count": 79,
   "metadata": {
    "collapsed": false
   },
   "outputs": [
    {
     "name": "stdout",
     "output_type": "stream",
     "text": [
      "Accuracy: 0.9111111111111111\n"
     ]
    }
   ],
   "source": [
    "myDC = MyDecisionTree()\n",
    "myDC.fit(X_train,y_train)\n",
    "y_pred = myDC.predict(X_test)\n",
    "\n",
    "count1 = 0\n",
    "for i in range(len(y_pred)):\n",
    "    if int(y_pred[i]) == int(y_test[i]):\n",
    "        count1 += 1\n",
    "\n",
    "accuracy = count1 / len(y_pred)        \n",
    "print (\"Accuracy:\", accuracy) \n"
   ]
  },
  {
   "cell_type": "code",
   "execution_count": 80,
   "metadata": {
    "collapsed": false
   },
   "outputs": [
    {
     "name": "stdout",
     "output_type": "stream",
     "text": [
      "Accuracy: 0.9333333333333333\n"
     ]
    }
   ],
   "source": [
    "myForest = MyRandomForest(10)\n",
    "myForest.fit(X_train, y_train)\n",
    "forest_y = myForest.predict(X_test)\n",
    "\n",
    "count2 = 0\n",
    "for i in range(len(forest_y)):\n",
    "    if int(forest_y[i]) == int(y_test[i]):\n",
    "        count2 += 1\n",
    "\n",
    "accuracy = count2 / len(forest_y)        \n",
    "print (\"Accuracy:\", accuracy) "
   ]
  },
  {
   "cell_type": "code",
   "execution_count": 81,
   "metadata": {
    "collapsed": false
   },
   "outputs": [
    {
     "name": "stdout",
     "output_type": "stream",
     "text": [
      "Accuracy: 0.9333333333333333\n"
     ]
    }
   ],
   "source": [
    "from sklearn.tree import DecisionTreeClassifier\n",
    "\n",
    "t = DecisionTreeClassifier()\n",
    "t.fit(X_train, y_train)\n",
    "yp = t.predict(X_test)\n",
    "count3 = 0\n",
    "for i in range(len(yp)):\n",
    "    if yp[i] == y_test[i]:\n",
    "        count3 += 1\n",
    "\n",
    "accuracy = count3 / len(yp)        \n",
    "print (\"Accuracy:\", accuracy) \n"
   ]
  },
  {
   "cell_type": "code",
   "execution_count": null,
   "metadata": {
    "collapsed": true
   },
   "outputs": [],
   "source": []
  }
 ],
 "metadata": {
  "kernelspec": {
   "display_name": "Python 3",
   "language": "python",
   "name": "python3"
  },
  "language_info": {
   "codemirror_mode": {
    "name": "ipython",
    "version": 3
   },
   "file_extension": ".py",
   "mimetype": "text/x-python",
   "name": "python",
   "nbconvert_exporter": "python",
   "pygments_lexer": "ipython3",
   "version": "3.5.1"
  }
 },
 "nbformat": 4,
 "nbformat_minor": 2
}
