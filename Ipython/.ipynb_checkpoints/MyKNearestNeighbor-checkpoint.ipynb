{
 "cells": [
  {
   "cell_type": "code",
   "execution_count": null,
   "metadata": {
    "collapsed": true
   },
   "outputs": [],
   "source": [
    "'''\n",
    "Reference\n",
    "1.https://medium.com/@NorthBei/machine-learning-knn%E5%88%86%E9%A1%9E%E6%BC%94%E7%AE%97%E6%B3%95-b3e9b5aea8df\n",
    "2.https://www.analyticsvidhya.com/blog/2018/03/introduction-k-neighbours-algorithm-clustering/\n",
    "'''"
   ]
  },
  {
   "cell_type": "code",
   "execution_count": 28,
   "metadata": {
    "collapsed": true
   },
   "outputs": [],
   "source": [
    "import numpy as np\n",
    "%matplotlib inline\n",
    "import matplotlib.pyplot as plt\n",
    "import seaborn as sns\n",
    "sns.set_style(\"white\")\n",
    "import pandas as pd\n",
    "from sklearn import datasets\n",
    "from sklearn.cross_validation import train_test_split\n",
    "\n",
    "iris = datasets.load_iris()\n",
    "X = iris.data[:, 0:3]\n",
    "y = iris.target\n",
    "X_train, X_test, y_train, y_test = train_test_split(X, y, test_size=0.3)"
   ]
  },
  {
   "cell_type": "code",
   "execution_count": 29,
   "metadata": {
    "collapsed": true
   },
   "outputs": [],
   "source": [
    "from collections import Counter\n",
    "\n",
    "class MyKNearestNeighbor():\n",
    "    def __init__(self, k):\n",
    "        self.k = k\n",
    "    \n",
    "    def euclidean_distance(self, a, b):\n",
    "        dist = 0\n",
    "        for i in range(len(a)):\n",
    "            dist += (a[i]-b[i])*(a[i]-b[i])\n",
    "        return np.sqrt(dist)\n",
    "    \n",
    "    def _majority_vote(self, y):\n",
    "        most_common = None\n",
    "        max_count = 0\n",
    "        for label in np.unique(y):\n",
    "            # Count number of occurences of samples with label\n",
    "            count = len(y[y == label])\n",
    "            if count > max_count:\n",
    "                most_common = label\n",
    "                max_count = count\n",
    "        return most_common \n",
    "        \n",
    "    def predict(self, X_test, X_train, y_train):\n",
    "        res = []\n",
    "        for test_sample in X_test:\n",
    "            dist = [self.euclidean_distance(test_sample, train_sample) for train_sample in X_train]\n",
    "            idx = np.argsort(dist)[0:self.k]\n",
    "            res.append(self._majority_vote(y_train[idx]))\n",
    "        return res\n",
    "       "
   ]
  },
  {
   "cell_type": "code",
   "execution_count": 30,
   "metadata": {
    "collapsed": false
   },
   "outputs": [
    {
     "name": "stdout",
     "output_type": "stream",
     "text": [
      "Accuracy: 0.9777777777777777\n",
      "Accuracy: 0.9111111111111111\n",
      "Accuracy: 1.0\n",
      "Accuracy: 0.9555555555555556\n",
      "Accuracy: 0.9777777777777777\n",
      "Accuracy: 0.9777777777777777\n",
      "Accuracy: 0.9777777777777777\n",
      "Accuracy: 0.9555555555555556\n",
      "Accuracy: 0.9555555555555556\n",
      "Accuracy: 0.9555555555555556\n"
     ]
    },
    {
     "data": {
      "image/png": "[encoded data removed]",
      "text/plain": [
       "<matplotlib.figure.Figure at 0x112fd3780>"
      ]
     },
     "metadata": {},
     "output_type": "display_data"
    }
   ],
   "source": [
    "acc = []\n",
    "for i in range(10):\n",
    "    myknn = MyKNearestNeighbor(i+1)\n",
    "    y_pred = myknn.predict(X_test, X_train, y_train)\n",
    "    count = 0\n",
    "    for i in range(len(y_pred)):\n",
    "        if y_pred[i] == y_test[i]:\n",
    "            count += 1\n",
    "\n",
    "    accuracy = count / len(y_pred)        \n",
    "    print (\"Accuracy:\", accuracy)\n",
    "    acc.append(accuracy)\n",
    "plt.plot(acc)\n",
    "plt.show()"
   ]
  },
  {
   "cell_type": "code",
   "execution_count": null,
   "metadata": {
    "collapsed": true
   },
   "outputs": [],
   "source": []
  }
 ],
 "metadata": {
  "kernelspec": {
   "display_name": "Python 3",
   "language": "python",
   "name": "python3"
  },
  "language_info": {
   "codemirror_mode": {
    "name": "ipython",
    "version": 3
   },
   "file_extension": ".py",
   "mimetype": "text/x-python",
   "name": "python",
   "nbconvert_exporter": "python",
   "pygments_lexer": "ipython3",
   "version": "3.5.1"
  }
 },
 "nbformat": 4,
 "nbformat_minor": 2
}
