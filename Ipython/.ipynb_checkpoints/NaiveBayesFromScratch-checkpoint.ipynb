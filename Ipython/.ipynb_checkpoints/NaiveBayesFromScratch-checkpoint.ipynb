{
 "cells": [
  {
   "cell_type": "code",
   "execution_count": 157,
   "metadata": {
    "collapsed": false
   },
   "outputs": [],
   "source": [
    "import math\n",
    "import numpy as np\n",
    "\n",
    "'''\n",
    "Refernce to \n",
    "1. https://machinelearningmastery.com/naive-bayes-classifier-scratch-python/\n",
    "2. https://github.com/meetvora/mlp-classifier/blob/master/models/naiveScratch.py\n",
    "'''\n",
    "\n",
    "class MyNaiveBayesClassifier():\n",
    "    def __init__(self, X, y):\n",
    "        self.classes = set(y)\n",
    "        self.class_count = len(self.classes)\n",
    "        self.train_data = X\n",
    "        self.train_data_label = y\n",
    "        self.train_data_len = len(self.train_data)\n",
    "        \n",
    "    def calculateClassProbability(self, summaries, x, label):\n",
    "        mu, sigma, prior = summaries[label]\n",
    "        likelihood = 1\n",
    "        for i in range(len(mu)):\n",
    "            exponent = math.exp(-((x[i]-mu[i])*(x[i]-mu[i]))/(2*sigma[i]*sigma[i]))\n",
    "            likelihood *=  exponent/(math.sqrt(2*math.pi)*sigma[i])\n",
    "            \n",
    "        return prior * likelihood\n",
    "    \n",
    "    def separateByClass(self):\n",
    "        d = dict.fromkeys(self.classes)\n",
    "        for c in self.classes:\n",
    "            d[c] = []\n",
    "        \n",
    "        for i in range(len(self.train_data_label)):\n",
    "            d[self.train_data_label[i]].append(self.train_data[i])\n",
    "            \n",
    "        return d    \n",
    "    \n",
    "    def summarizeClass(self, method):\n",
    "        class_data = self.separateByClass()\n",
    "        summary = {}\n",
    "        if method == 'gaussian':\n",
    "            for c, data in class_data.items():\n",
    "                summary[c] = (self._calculateMean(data), self._calculateStd(data), len(data)/self.train_data_len)\n",
    "        \n",
    "        return summary\n",
    "    \n",
    "    def predict(self, summaries, input_data):\n",
    "        max_prob = 0\n",
    "        best_class = None\n",
    "        \n",
    "        for c in self.classes:\n",
    "            prob = self.calculateClassProbability(summaries, input_data, c)\n",
    "            if prob > max_prob:\n",
    "                max_prob = prob\n",
    "                best_class = c\n",
    "        \n",
    "        return best_class\n",
    "    \n",
    "    def getPredictions(self, summaries, test_data):\n",
    "        predictions = []\n",
    "        for data in test_data:\n",
    "            result = self.predict(summaries, data)\n",
    "            predictions.append(result)\n",
    "        return predictions\n",
    "    \n",
    "        \n",
    "    def _calculateMean(self,data):\n",
    "        return np.mean(data, axis=0)\n",
    "    \n",
    "    def _calculateStd(self, data):\n",
    "        return np.std(data, axis=0)\n",
    "    "
   ]
  },
  {
   "cell_type": "code",
   "execution_count": 161,
   "metadata": {
    "collapsed": false
   },
   "outputs": [
    {
     "name": "stdout",
     "output_type": "stream",
     "text": [
      "0.7313432835820896\n"
     ]
    }
   ],
   "source": [
    "import pandas as pd\n",
    "filename = \"pima-indians-diabetes.data.csv\"\n",
    "dataset = pd.read_csv(filename, index_col=False)\n",
    "y = dataset[\" i\"].values.tolist()\n",
    "dataset.drop([\" i\"],axis=1, inplace=True)\n",
    "X = dataset.values.tolist()\n",
    "\n",
    "X_train = X[:700]\n",
    "y_train = y[:700]\n",
    "\n",
    "X_test = X[701:]\n",
    "y_test = y[701:]\n",
    "\n",
    "NB = MyNaiveBayesClassifier(X_train, y_train)\n",
    "summ = NB.summarizeClass('gaussian')\n",
    "res = NB.getPredictions(summ, X_test)\n",
    "count = 0\n",
    "for i in range(len(res)):\n",
    "    #print(\"Predicted: {}, Y_label: {}\".format(res[i], y_test[i]))\n",
    "    if res[i] == y_test[i]:\n",
    "        count += 1\n",
    "print(count/len(y_test))\n",
    "    "
   ]
  }
 ],
 "metadata": {
  "kernelspec": {
   "display_name": "Python 3",
   "language": "python",
   "name": "python3"
  },
  "language_info": {
   "codemirror_mode": {
    "name": "ipython",
    "version": 3
   },
   "file_extension": ".py",
   "mimetype": "text/x-python",
   "name": "python",
   "nbconvert_exporter": "python",
   "pygments_lexer": "ipython3",
   "version": "3.5.1"
  }
 },
 "nbformat": 4,
 "nbformat_minor": 2
}
